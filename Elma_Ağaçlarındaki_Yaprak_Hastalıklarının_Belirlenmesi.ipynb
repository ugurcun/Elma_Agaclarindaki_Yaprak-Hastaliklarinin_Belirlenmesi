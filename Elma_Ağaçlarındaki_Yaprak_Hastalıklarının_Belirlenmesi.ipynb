{
  "nbformat": 4,
  "nbformat_minor": 0,
  "metadata": {
    "colab": {
      "provenance": [],
      "authorship_tag": "ABX9TyMct50wxwNt4DihhXv1QiC0",
      "include_colab_link": true
    },
    "kernelspec": {
      "name": "python3",
      "display_name": "Python 3"
    },
    "language_info": {
      "name": "python"
    }
  },
  "cells": [
    {
      "cell_type": "markdown",
      "metadata": {
        "id": "view-in-github",
        "colab_type": "text"
      },
      "source": [
        "<a href=\"https://colab.research.google.com/github/ugurcun/Elma_Agaclarindaki_Yaprak-Hastaliklarinin_Belirlenmesi/blob/main/Elma_A%C4%9Fa%C3%A7lar%C4%B1ndaki_Yaprak_Hastal%C4%B1klar%C4%B1n%C4%B1n_Belirlenmesi.ipynb\" target=\"_parent\"><img src=\"https://colab.research.google.com/assets/colab-badge.svg\" alt=\"Open In Colab\"/></a>"
      ]
    },
    {
      "cell_type": "code",
      "source": [
        "import matplotlib.pyplot as plt\n",
        "import seaborn as sns\n",
        "import numpy as np\n",
        "import pandas as pd\n",
        "\n",
        "# Verileri okuma\n",
        "train_data = pd.read_csv('train.csv')\n",
        "test_data = pd.read_csv('test.csv')\n",
        "sample_submission = pd.read_csv('sample_submission.csv')"
      ],
      "metadata": {
        "id": "Elb7W60o4QsN"
      },
      "execution_count": 16,
      "outputs": []
    },
    {
      "cell_type": "code",
      "source": [
        "import matplotlib.pyplot as plt\n",
        "import seaborn as sns\n",
        "import numpy as np\n",
        "import pandas as pd\n",
        "\n",
        "# Verileri okuma\n",
        "train_data = pd.read_csv('train.csv')\n",
        "test_data = pd.read_csv('test.csv')\n",
        "sample_submission = pd.read_csv('sample_submission.csv')\n",
        "\n",
        "\n",
        "# Veri Ön İşleme\n",
        "\n",
        "# 1. Eksik Değerleri Ele Alın\n",
        "# Eksik değerleri sütun ortalaması veya medyanı ile doldur\n",
        "for column in train_data.columns:\n",
        "    if train_data[column].isnull().any():\n",
        "        if pd.api.types.is_numeric_dtype(train_data[column]):\n",
        "            train_data[column].fillna(train_data[column].mean(), inplace=True)\n",
        "        else:\n",
        "            train_data[column].fillna(train_data[column].mode()[0], inplace=True)\n",
        "\n",
        "for column in test_data.columns:\n",
        "    if test_data[column].isnull().any():\n",
        "        if pd.api.types.is_numeric_dtype(test_data[column]):\n",
        "            test_data[column].fillna(test_data[column].mean(), inplace=True)\n",
        "        else:\n",
        "            test_data[column].fillna(test_data[column].mode()[0], inplace=True)\n",
        "\n",
        "\n",
        "# 2. Kategorik Değişkenleri Kodlama\n",
        "# One-Hot Encoding veya Label Encoding kullanın\n",
        "train_data = pd.get_dummies(train_data, drop_first=True)\n",
        "test_data = pd.get_dummies(test_data, drop_first=True)\n",
        "\n",
        "\n",
        "# 3. Outlier'ları Ele Alın (Opsiyonel)\n",
        "# Outlier'ları tespit edip, verileri düzenleyin\n",
        "# Örneğin, IQR (Interquartile Range) kullanarak outlier'ları tespit edin ve bu outlier'ları verinin ortanca değeri ile değiştirin\n",
        "for column in train_data.select_dtypes(include=np.number).columns:\n",
        "    Q1 = train_data[column].quantile(0.25)\n",
        "    Q3 = train_data[column].quantile(0.75)\n",
        "    IQR = Q3 - Q1\n",
        "    lower_bound = Q1 - 1.5 * IQR\n",
        "    upper_bound = Q3 + 1.5 * IQR\n",
        "    train_data[column] = np.where((train_data[column] < lower_bound) | (train_data[column] > upper_bound),\n",
        "                                train_data[column].median(), train_data[column])\n",
        "\n",
        "\n",
        "# Veri Bölme\n",
        "from sklearn.model_selection import train_test_split\n",
        "\n",
        "X = train_data.drop('healthy', axis=1)\n",
        "y = train_data['healthy']\n",
        "X_train, X_temp, y_train, y_temp = train_test_split(X, y, test_size=0.3, random_state=42)\n",
        "X_val, X_test, y_val, y_test = train_test_split(X_temp, y_temp, test_size=0.5, random_state=42)\n",
        "\n",
        "\n",
        "# Model Seçimi ve Eğitimi\n",
        "from sklearn.linear_model import LinearRegression\n",
        "from sklearn.ensemble import RandomForestRegressor\n",
        "from sklearn.metrics import mean_squared_error\n",
        "\n",
        "\n",
        "# Model 1: Linear Regression\n",
        "model_lr = LinearRegression()\n",
        "model_lr.fit(X_train, y_train)\n",
        "y_pred_lr = model_lr.predict(X_val)\n",
        "rmse_lr = np.sqrt(mean_squared_error(y_val, y_pred_lr))\n",
        "print(\"Linear Regression RMSE:\", rmse_lr)\n",
        "\n",
        "\n",
        "# Model 2: Random Forest Regression\n",
        "model_rf = RandomForestRegressor()\n",
        "model_rf.fit(X_train, y_train)\n",
        "y_pred_rf = model_rf.predict(X_val)\n",
        "rmse_rf = np.sqrt(mean_squared_error(y_val, y_pred_rf))\n",
        "print(\"Random Forest Regression RMSE:\", rmse_rf)\n",
        "\n",
        "\n",
        "\n",
        "# En iyi modeli seçin ve test verileri üzerinde değerlendirin\n",
        "if rmse_lr < rmse_rf:\n",
        "    best_model = model_lr\n",
        "    print(\"En iyi model: Linear Regression\")\n",
        "else:\n",
        "    best_model = model_rf\n",
        "    print(\"En iyi model: Random Forest Regression\")\n",
        "\n",
        "y_pred_test = best_model.predict(X_test)\n",
        "rmse_test = np.sqrt(mean_squared_error(y_test, y_pred_test))\n",
        "print(\"Test RMSE:\", rmse_test)\n",
        "\n",
        "# Tahminleri dosyaya yazın\n",
        "# Align the columns of test_data with X_train\n",
        "test_data = test_data.reindex(columns=X_train.columns, fill_value=0)\n",
        "\n",
        "predictions = best_model.predict(test_data)\n",
        "sample_submission['healthy'] = predictions\n",
        "sample_submission.to_csv('submission.csv', index=False)\n",
        "\n"
      ],
      "metadata": {
        "colab": {
          "base_uri": "https://localhost:8080/"
        },
        "id": "1aGU3Oon6b31",
        "outputId": "b1f984a1-6d05-4ee1-d7e5-1874394b3b5f"
      },
      "execution_count": 23,
      "outputs": [
        {
          "output_type": "stream",
          "name": "stdout",
          "text": [
            "Linear Regression RMSE: 0.21443482385731552\n",
            "Random Forest Regression RMSE: 0.2344036154692477\n",
            "En iyi model: Linear Regression\n",
            "Test RMSE: 0.20699218646819806\n"
          ]
        }
      ]
    },
    {
      "cell_type": "code",
      "source": [],
      "metadata": {
        "id": "CwixmlLY6_ad"
      },
      "execution_count": null,
      "outputs": []
    }
  ]
}